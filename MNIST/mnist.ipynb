{
 "cells": [
  {
   "cell_type": "code",
   "execution_count": 34,
   "metadata": {},
   "outputs": [],
   "source": [
    "# Use PyTorch\n",
    "#import sys\n",
    "import torch\n",
    "import torch.nn as nn\n",
    "import torch.nn.functional as F\n",
    "import torch.optim as optim\n",
    "from torchvision import datasets, transforms"
   ]
  },
  {
   "cell_type": "code",
   "execution_count": 23,
   "metadata": {},
   "outputs": [],
   "source": [
    "class Net(nn.Module):\n",
    "    def __init__(self):\n",
    "        super(Net, self).__init__()\n",
    "        self.conv1 = nn.Conv2d(1, 16, 3, 2)\n",
    "        self.conv2 = nn.Conv2d(16, 16, 3, 2)\n",
    "        self.fc1 = nn.Linear(576, 100)\n",
    "        self.fc2 = nn.Linear(100, 10)\n",
    "    def forward(self, x):\n",
    "        x = F.relu(self.conv1(x))\n",
    "        x = F.relu(self.conv2(x))\n",
    "        x = x.view(-1, 576)\n",
    "        x = F.relu(self.fc1(x))\n",
    "        x = self.fc2(x)\n",
    "        return F.log_softmax(x, dim=1)\n",
    "        "
   ]
  },
  {
   "cell_type": "code",
   "execution_count": 35,
   "metadata": {},
   "outputs": [],
   "source": [
    "def train(args, model, device, train_loader, optimizer, epoch):\n",
    "    model.train()\n",
    "    total_loss = []\n",
    "    for batch_idx, (data, target) in enumerate(train_loader):\n",
    "        data, target = data.to(device), target.to(device)\n",
    "        optimizer.zero_grad()\n",
    "        output = model(data)\n",
    "        loss = F.nll_loss(output, target)\n",
    "        loss.backward()\n",
    "        optimizer.step()\n",
    "        total_loss.append(loss.item())\n",
    "        #sys.stdout.write('.')\n",
    "    #print('')\n",
    "    print ('Epoch {}, average loss = {}'.format(epoch, sum(total_loss)/len(total_loss)))"
   ]
  },
  {
   "cell_type": "code",
   "execution_count": 37,
   "metadata": {},
   "outputs": [],
   "source": [
    "def test(args, model, device, test_loader):\n",
    "    model.eval()\n",
    "    test_loss, correct = 0, 0\n",
    "    with torch.no_grad():\n",
    "        for data, target in test_loader:\n",
    "            data, target = data.to(device), target.to(device)\n",
    "            output = model(data)\n",
    "            test_loss += F.nll_loss(output, target, reduction='sum').item()\n",
    "            prediction = output.max(1, keepdim=True)[1]\n",
    "            correct += prediction.eq(target.view_as(prediction)).sum().item()\n",
    "    test_loss /= len(test_loader.dataset)\n",
    "    correct = 1. * correct / len(test_loader.dataset)\n",
    "    print ('Test loss = {}, accuracy = {}%'.format(test_loss, correct * 100.))"
   ]
  },
  {
   "cell_type": "code",
   "execution_count": 5,
   "metadata": {},
   "outputs": [],
   "source": [
    "def main():\n",
    "    device = torch.device('cpu')\n",
    "    train_loader = torch.utils.data.DataLoader(\n",
    "        datasets.MNIST('../data', train=True, download=True,\n",
    "                       transform=transforms.Compose([\n",
    "                           transforms.ToTensor(),\n",
    "                           transforms.Normalize((0.1307,), (0.3081,))\n",
    "                       ])),\n",
    "        batch_size=64, shuffle=True)\n",
    "    test_loader = torch.utils.data.DataLoader(\n",
    "        datasets.MNIST('../data', train=False, transform=transforms.Compose([\n",
    "                           transforms.ToTensor(),\n",
    "                           transforms.Normalize((0.1307,), (0.3081,))\n",
    "                       ])),\n",
    "        batch_size=64, shuffle=True)\n",
    "    model = Net().to(device)\n",
    "    optimizer = optim.SGD(model.parameters(), lr=1e-2, momentum=0.5)\n",
    "    \n",
    "    args = {} # Extra args\n",
    "    for epoch in range(10):\n",
    "        train(args, model, device, train_loader, optimizer, epoch)\n",
    "        test(args, model, device, test_loader)"
   ]
  },
  {
   "cell_type": "code",
   "execution_count": 38,
   "metadata": {},
   "outputs": [
    {
     "name": "stdout",
     "output_type": "stream",
     "text": [
      "Epoch 0, average loss = 0.58500739173499\n",
      "Test loss = 0.22590290474891664, accuracy = 93.26%\n",
      "Epoch 1, average loss = 0.18579699158239593\n",
      "Test loss = 0.14667325031757356, accuracy = 95.50999999999999%\n",
      "Epoch 2, average loss = 0.13033150587636017\n",
      "Test loss = 0.11550254786014556, accuracy = 96.34%\n",
      "Epoch 3, average loss = 0.10385156767184674\n",
      "Test loss = 0.08536583425998688, accuracy = 97.38%\n",
      "Epoch 4, average loss = 0.08692150010165375\n",
      "Test loss = 0.07973622317314148, accuracy = 97.32%\n",
      "Epoch 5, average loss = 0.07473142532460979\n",
      "Test loss = 0.08099015662670135, accuracy = 97.37%\n",
      "Epoch 6, average loss = 0.06534387174842836\n",
      "Test loss = 0.06504862253665925, accuracy = 97.86%\n",
      "Epoch 7, average loss = 0.05753166550226303\n",
      "Test loss = 0.06782806587219238, accuracy = 97.77%\n",
      "Epoch 8, average loss = 0.052617895109122244\n",
      "Test loss = 0.0648585063457489, accuracy = 97.84%\n",
      "Epoch 9, average loss = 0.0472996067434454\n",
      "Test loss = 0.05612728929519653, accuracy = 98.21%\n"
     ]
    }
   ],
   "source": [
    "if __name__ == '__main__':\n",
    "    main()"
   ]
  }
 ],
 "metadata": {
  "kernelspec": {
   "display_name": "Python 3",
   "language": "python",
   "name": "python3"
  },
  "language_info": {
   "codemirror_mode": {
    "name": "ipython",
    "version": 3
   },
   "file_extension": ".py",
   "mimetype": "text/x-python",
   "name": "python",
   "nbconvert_exporter": "python",
   "pygments_lexer": "ipython3",
   "version": "3.7.0"
  }
 },
 "nbformat": 4,
 "nbformat_minor": 2
}
